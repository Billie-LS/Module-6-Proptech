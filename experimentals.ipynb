{
 "cells": [
  {
   "cell_type": "code",
   "execution_count": 1,
   "id": "7e9ad36d-367a-4eea-9079-84d6b97ba2cd",
   "metadata": {},
   "outputs": [],
   "source": [
    "# Experimentals"
   ]
  },
  {
   "cell_type": "code",
   "execution_count": null,
   "id": "b34921a7-205f-44ea-bb10-e880a3c4ede3",
   "metadata": {},
   "outputs": [],
   "source": [
    "# SUPPLEMENTAL\n",
    "# Create a numerical aggregation that groups the data by the year and by neighborhood and then averages the results.\n",
    "housing_units_by_year_hood = sfo_data_df.groupby(['year', 'neighborhood']).mean()\n",
    "housing_units_by_year_hood = housing_units_by_year_hood[['housing_units']]"
   ]
  },
  {
   "cell_type": "code",
   "execution_count": null,
   "id": "8583ee2f-a9ad-46b7-9cfb-c4f2c2e8b3b3",
   "metadata": {},
   "outputs": [],
   "source": [
    "# SUPPLEMENTAL\n",
    "# Create a numerical aggregation that groups the data by the year and by neighborhood and then averages the results.\n",
    "# Create a visual aggregation explore the housing units by year with neighborhood widget\n",
    "plot_housing_units_by_year_hood = housing_units_by_year_hood.hvplot.bar(\n",
    "    x = 'year', \n",
    "    bar_width=.75,\n",
    "    title='Housing Units in San Francisco from 2010 to 2016 - By Neighborhood',\n",
    "    xlabel='Year',\n",
    "    ylabel='Housing Units',\n",
    "    groupby='neighborhood',\n",
    "    color='blue',\n",
    "    ylim = (365000, 390000)\n",
    ").opts(\n",
    "    yformatter='%0f',   \n",
    ")\n",
    "\n",
    "plot_housing_units_by_year_hood"
   ]
  },
  {
   "cell_type": "code",
   "execution_count": null,
   "id": "d1f07817-fc92-4864-bd43-4b6cacbaaf11",
   "metadata": {},
   "outputs": [],
   "source": [
    "# SUPPLEMENTAL\n",
    "inverted_plot_housing_units_by_year = housing_units_by_year.hvplot.bar(\n",
    "    x = \"year\", \n",
    "    y = \"housing_units\", \n",
    "    title='Housing Units in San Francisco from 2010 to 2016',\n",
    "    xlabel='Year',\n",
    "    ylabel='Housing Units',\n",
    "    color='blue',\n",
    "    ylim = (365000, 390000)\n",
    ").opts(\n",
    "    invert_axes=True,               # Invert x and y axis\n",
    "    xformatter='%.0f',              # change from y to x with inversion of axis\n",
    "    bar_width=.75                   # alter bar width\n",
    ")\n",
    "inverted_plot_housing_units_by_year"
   ]
  }
 ],
 "metadata": {
  "kernelspec": {
   "display_name": "slt_viz_trade_jupyterlab_dev",
   "language": "python",
   "name": "slt_viz_trade_jupyterlab_dev"
  },
  "language_info": {
   "codemirror_mode": {
    "name": "ipython",
    "version": 3
   },
   "file_extension": ".py",
   "mimetype": "text/x-python",
   "name": "python",
   "nbconvert_exporter": "python",
   "pygments_lexer": "ipython3",
   "version": "3.7.13"
  }
 },
 "nbformat": 4,
 "nbformat_minor": 5
}
